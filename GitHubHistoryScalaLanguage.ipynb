{
 "cells": [
  {
   "cell_type": "markdown",
   "source": [
    "## 1. Scala's real-world project repository data\n",
    "<p>With almost 30k commits and a history spanning over ten years, Scala is a mature programming language. It is a general-purpose programming language that has recently become another prominent language for data scientists.</p>\n",
    "<p>Scala is also an open source project. Open source projects have the advantage that their entire development histories -- who made changes, what was changed, code reviews, etc. -- are publicly available. </p>\n",
    "<p>We're going to read in, clean up, and visualize the real world project repository of Scala that spans data from a version control system (Git) as well as a project hosting site (GitHub). We will find out who has had the most influence on its development and who are the experts.</p>\n",
    "<p>The dataset we will use, which has been previously mined and extracted from GitHub, is comprised of three files:</p>\n",
    "<ol>\n",
    "<li><code>pulls_2011-2013.csv</code> contains the basic information about the pull requests, and spans from the end of 2011 up to (but not including) 2014.</li>\n",
    "<li><code>pulls_2014-2018.csv</code> contains identical information, and spans from 2014 up to 2018.</li>\n",
    "<li><code>pull_files.csv</code> contains the files that were modified by each pull request.</li>\n",
    "</ol>"
   ],
   "metadata": {
    "dc": {
     "key": "5"
    },
    "run_control": {
     "frozen": true
    },
    "tags": [
     "context"
    ],
    "pycharm": {
     "name": "#%% md\n"
    }
   }
  },
  {
   "cell_type": "code",
   "source": [
    "# Importing pandas\n",
    "import pandas as pd\n",
    "\n",
    "# Loading in the data\n",
    "pulls_one = pd.read_csv(\"datasets/pulls_2011-2013.csv\")\n",
    "pulls_two = pd.read_csv(\"datasets/pulls_2014-2018.csv\")\n",
    "pull_files = pd.read_csv(\"datasets/pull_files.csv\") \n",
    "print(pulls_one.info())"
   ],
   "metadata": {
    "dc": {
     "key": "5"
    },
    "tags": [
     "sample_code"
    ],
    "pycharm": {
     "name": "#%%\n"
    }
   },
   "execution_count": 1,
   "outputs": [
    {
     "name": "stdout",
     "output_type": "stream",
     "text": [
      "<class 'pandas.core.frame.DataFrame'>\n",
      "RangeIndex: 3296 entries, 0 to 3295\n",
      "Data columns (total 3 columns):\n",
      " #   Column  Non-Null Count  Dtype \n",
      "---  ------  --------------  ----- \n",
      " 0   pid     3296 non-null   int64 \n",
      " 1   user    3296 non-null   object\n",
      " 2   date    3296 non-null   object\n",
      "dtypes: int64(1), object(2)\n",
      "memory usage: 77.4+ KB\n",
      "None\n"
     ]
    }
   ]
  },
  {
   "cell_type": "markdown",
   "source": [
    "## 2. Preparing and cleaning the data\n",
    "<p>First, we will need to combine the data from the two separate pull DataFrames. </p>\n",
    "<p>Next, the raw data extracted from GitHub contains dates in the ISO8601 format. However, <code>pandas</code> imports them as regular strings. To make our analysis easier, we need to convert the strings into Python's <code>DateTime</code> objects. <code>DateTime</code> objects have the important property that they can be compared and sorted.</p>\n",
    "<p>The pull request times are all in UTC (also known as Coordinated Universal Time). The commit times, however, are in the local time of the author with time zone information (number of hours difference from UTC). To make comparisons easy, we should convert all times to UTC.</p>"
   ],
   "metadata": {
    "dc": {
     "key": "12"
    },
    "run_control": {
     "frozen": true
    },
    "tags": [
     "context"
    ],
    "pycharm": {
     "name": "#%% md\n"
    }
   }
  },
  {
   "cell_type": "code",
   "source": [
    "# Append pulls_one to pulls_two\n",
    "pulls = pulls_one.append(pulls_two)\n",
    "\n",
    "# Convert the date for the pulls object\n",
    "pulls['date'] = pd.to_datetime(pulls['date'],utc=True)\n",
    "print(pulls['date'].dtype)"
   ],
   "metadata": {
    "dc": {
     "key": "12"
    },
    "tags": [
     "sample_code"
    ],
    "pycharm": {
     "name": "#%%\n"
    }
   },
   "execution_count": 2,
   "outputs": [
    {
     "name": "stdout",
     "output_type": "stream",
     "text": [
      "datetime64[ns, UTC]\n"
     ]
    },
    {
     "name": "stderr",
     "output_type": "stream",
     "text": [
      "C:\\Users\\bruni\\AppData\\Local\\Temp\\ipykernel_14584\\2886595012.py:2: FutureWarning: The frame.append method is deprecated and will be removed from pandas in a future version. Use pandas.concat instead.\n",
      "  pulls = pulls_one.append(pulls_two)\n"
     ]
    }
   ]
  },
  {
   "cell_type": "markdown",
   "source": [
    "## 3. Merging the DataFrames\n",
    "<p>The data extracted comes in two separate files. Merging the two DataFrames will make it easier for us to analyze the data in the future tasks.</p>"
   ],
   "metadata": {
    "dc": {
     "key": "19"
    },
    "run_control": {
     "frozen": true
    },
    "tags": [
     "context"
    ],
    "pycharm": {
     "name": "#%% md\n"
    }
   }
  },
  {
   "cell_type": "code",
   "source": [
    "# Merge the two DataFrames\n",
    "data = pulls.merge(pull_files, on='pid', suffixes=('_pulls','_files'))\n",
    "print(data.head())"
   ],
   "metadata": {
    "dc": {
     "key": "19"
    },
    "tags": [
     "sample_code"
    ],
    "pycharm": {
     "name": "#%%\n"
    }
   },
   "execution_count": 3,
   "outputs": [
    {
     "name": "stdout",
     "output_type": "stream",
     "text": [
      "        pid         user                      date  \\\n",
      "0  11166973  VladimirNik 2013-12-31 23:10:55+00:00   \n",
      "1  11166973  VladimirNik 2013-12-31 23:10:55+00:00   \n",
      "2  11166973  VladimirNik 2013-12-31 23:10:55+00:00   \n",
      "3  11166973  VladimirNik 2013-12-31 23:10:55+00:00   \n",
      "4  11161892      Ichoran 2013-12-31 16:55:47+00:00   \n",
      "\n",
      "                                                file  \n",
      "0       src/reflect/scala/reflect/api/Printers.scala  \n",
      "1  src/reflect/scala/reflect/internal/Printers.scala  \n",
      "2                    test/files/run/reify_ann3.check  \n",
      "3  test/junit/scala/reflect/internal/PrintersTest...  \n",
      "4  src/library/scala/collection/mutable/ArrayOps....  \n"
     ]
    }
   ]
  },
  {
   "cell_type": "markdown",
   "source": [
    "## 4. Is the project still actively maintained?\n",
    "<p>The activity in an open source project is not very consistent. Some projects might be active for many years after the initial release, while others can slowly taper out into oblivion. Before committing to contributing to a project, it is important to understand the state of the project. Is development going steadily, or is there a drop? Has the project been abandoned altogether?</p>\n",
    "<p>The data used in this project was collected in January of 2018. We are interested in the evolution of the number of contributions up to that date.</p>\n",
    "<p>For Scala, we will do this by plotting a chart of the project's activity. We will calculate the number of pull requests submitted each (calendar) month during the project's lifetime. We will then plot these numbers to see the trend of contributions.</p>\n",
    "<ul>\n",
    "<li><p>A helpful reminder of how to access various components of a date can be found in <a href=\"https://campus.datacamp.com/courses/data-manipulation-with-pandas/slicing-and-indexing?ex=12\">this exercise of Data Manipulation with pandas</a></p></li>\n",
    "<li><p>Additionally, recall that you can group by multiple variables by passing a list to <code>.groupby()</code>. This video from <a href=\"https://campus.datacamp.com/courses/data-manipulation-with-pandas/aggregating-dataframes?ex=9\">Data Manipulation with pandas</a> should help!</p></li>\n",
    "</ul>"
   ],
   "metadata": {
    "dc": {
     "key": "26"
    },
    "run_control": {
     "frozen": true
    },
    "tags": [
     "context"
    ],
    "pycharm": {
     "name": "#%% md\n"
    }
   }
  },
  {
   "cell_type": "code",
   "source": [
    "%matplotlib inline\n",
    "\n",
    "# Create a column that will store the month\n",
    "data['month'] = data['date'].dt.month\n",
    "\n",
    "# Create a column that will store the year\n",
    "data['year'] = data['date'].dt.year\n",
    "\n",
    "# Group by the month and year and count the pull requests\n",
    "counts = data.groupby(['year','month'])['pid'].count()\n",
    "\n",
    "# Plot the results\n",
    "counts.plot(kind='bar', figsize = (12,4))"
   ],
   "metadata": {
    "dc": {
     "key": "26"
    },
    "tags": [
     "sample_code"
    ],
    "scrolled": true,
    "pycharm": {
     "name": "#%%\n"
    }
   },
   "execution_count": 4,
   "outputs": [
    {
     "data": {
      "text/plain": "<AxesSubplot:xlabel='year,month'>"
     },
     "execution_count": 4,
     "metadata": {},
     "output_type": "execute_result"
    },
    {
     "data": {
      "text/plain": "<Figure size 864x288 with 1 Axes>",
      "image/png": "[encoded data removed]"
     },
     "metadata": {
      "needs_background": "light"
     },
     "output_type": "display_data"
    }
   ]
  },
  {
   "cell_type": "markdown",
   "source": [
    "## 5. Is there camaraderie in the project?\n",
    "<p>The organizational structure varies from one project to another, and it can influence your success as a contributor. A project that has a very small community might not be the best one to start working on. The small community might indicate a high barrier of entry. This can be caused by several factors, including a community that is reluctant to accept pull requests from \"outsiders,\" that the code base is hard to work with, etc. However, a large community can serve as an indicator that the project is regularly accepting pull requests from new contributors. Such a project would be a good place to start.</p>\n",
    "<p>In order to evaluate the dynamics of the community, we will plot a histogram of the number of pull requests submitted by each user. A distribution that shows that there are few people that only contribute a small number of pull requests can be used as in indicator that the project is not welcoming of new contributors. </p>"
   ],
   "metadata": {
    "dc": {
     "key": "33"
    },
    "run_control": {
     "frozen": true
    },
    "tags": [
     "context"
    ],
    "pycharm": {
     "name": "#%% md\n"
    }
   }
  },
  {
   "cell_type": "code",
   "source": [
    "# Required for matplotlib\n",
    "%matplotlib inline\n",
    "\n",
    "# Group by the submitter\n",
    "by_user = data.groupby('user')['pid'].count()\n",
    "print(by_user.head())\n",
    "\n",
    "# Plot the histogram\n",
    "# ... YOUR CODE FOR TASK 5 ...\n",
    "by_user.hist(bins=50)\n"
   ],
   "metadata": {
    "dc": {
     "key": "33"
    },
    "tags": [
     "sample_code"
    ],
    "pycharm": {
     "name": "#%%\n"
    }
   },
   "execution_count": 11,
   "outputs": [
    {
     "name": "stdout",
     "output_type": "stream",
     "text": [
      "user\n",
      "0xmohit           2\n",
      "193s              4\n",
      "2m               20\n",
      "4.00E+06         22\n",
      "AlexeyIvanov8     2\n",
      "Name: pid, dtype: int64\n"
     ]
    },
    {
     "data": {
      "text/plain": "<AxesSubplot:>"
     },
     "execution_count": 11,
     "metadata": {},
     "output_type": "execute_result"
    },
    {
     "data": {
      "text/plain": "<Figure size 432x288 with 1 Axes>",
      "image/png": "[encoded data removed]"
     },
     "metadata": {
      "needs_background": "light"
     },
     "output_type": "display_data"
    }
   ]
  },
  {
   "cell_type": "markdown",
   "source": [
    "## 6. What files were changed in the last ten pull requests?\n",
    "<p>Choosing the right place to make a contribution is as important as choosing the project to contribute to. Some parts of the code might be stable, some might be dead. Contributing there might not have the most impact. Therefore it is important to understand the parts of the system that have been recently changed. This allows us to pinpoint the \"hot\" areas of the code where most of the activity is happening. Focusing on those parts might not the most effective use of our times.</p>"
   ],
   "metadata": {
    "dc": {
     "key": "40"
    },
    "run_control": {
     "frozen": true
    },
    "tags": [
     "context"
    ],
    "pycharm": {
     "name": "#%% md\n"
    }
   }
  },
  {
   "cell_type": "code",
   "source": [
    "# Identify the last 10 pull requests\n",
    "last_10 = pulls.sort_values('date').iloc[-10:]\n",
    "print(last_10)\n",
    "\n",
    "# Join the two data sets\n",
    "joined_pr = last_10.merge(pull_files,on='pid')\n",
    "joined_pr\n",
    "# Identify the nique files\n",
    "files = set(joined_pr['file'])\n",
    "\n",
    "# Print the results\n",
    "files"
   ],
   "metadata": {
    "dc": {
     "key": "40"
    },
    "tags": [
     "sample_code"
    ],
    "pycharm": {
     "name": "#%%\n"
    }
   },
   "execution_count": 6,
   "outputs": [
    {
     "name": "stdout",
     "output_type": "stream",
     "text": [
      "         pid         user                      date\n",
      "9  162011899     joroKr21 2018-01-10 00:45:57+00:00\n",
      "8  162197834    SethTisue 2018-01-10 18:31:25+00:00\n",
      "7  162256029    mkeskells 2018-01-10 23:20:03+00:00\n",
      "6  162643301       hrhino 2018-01-12 14:29:49+00:00\n",
      "5  162765232  howtonotwin 2018-01-13 04:37:17+00:00\n",
      "4  162838837    zuvizudar 2018-01-14 19:16:16+00:00\n",
      "3  162985594        lrytz 2018-01-15 15:52:39+00:00\n",
      "2  163057333    mkeskells 2018-01-15 23:05:06+00:00\n",
      "1  163061502     joroKr21 2018-01-15 23:44:52+00:00\n",
      "0  163314316       hrhino 2018-01-16 23:29:16+00:00\n"
     ]
    },
    {
     "data": {
      "text/plain": "{'LICENSE',\n 'doc/LICENSE.md',\n 'doc/License.rtf',\n 'project/VersionUtil.scala',\n 'src/compiler/scala/reflect/reify/phases/Calculate.scala',\n 'src/compiler/scala/tools/nsc/backend/jvm/BCodeHelpers.scala',\n 'src/compiler/scala/tools/nsc/backend/jvm/PostProcessor.scala',\n 'src/compiler/scala/tools/nsc/backend/jvm/analysis/BackendUtils.scala',\n 'src/compiler/scala/tools/nsc/profile/AsyncHelper.scala',\n 'src/compiler/scala/tools/nsc/profile/Profiler.scala',\n 'src/compiler/scala/tools/nsc/symtab/classfile/ClassfileParser.scala',\n 'src/compiler/scala/tools/nsc/typechecker/Contexts.scala',\n 'src/library/scala/Predef.scala',\n 'src/library/scala/concurrent/Lock.scala',\n 'src/library/scala/util/Properties.scala',\n 'src/reflect/scala/reflect/internal/pickling/ByteCodecs.scala',\n 'src/reflect/scala/reflect/internal/tpe/GlbLubs.scala',\n 'src/scaladoc/scala/tools/nsc/doc/html/page/Entity.scala',\n 'src/scalap/decoder.properties',\n 'test/files/neg/leibniz-liskov.check',\n 'test/files/neg/leibniz-liskov.scala',\n 'test/files/pos/leibniz-liskov.scala',\n 'test/files/pos/leibniz_liskov.scala',\n 'test/files/pos/parallel-classloader.scala',\n 'test/files/pos/t10568/Converter.java',\n 'test/files/pos/t10568/Impl.scala',\n 'test/files/pos/t10686.scala',\n 'test/files/pos/t5638/Among.java',\n 'test/files/pos/t5638/Usage.scala',\n 'test/files/pos/t9291.scala',\n 'test/files/run/t8348.check',\n 'test/files/run/t8348/TableColumn.java',\n 'test/files/run/t8348/TableColumnImpl.java',\n 'test/files/run/t8348/Test.scala'}"
     },
     "execution_count": 6,
     "metadata": {},
     "output_type": "execute_result"
    }
   ]
  },
  {
   "cell_type": "markdown",
   "source": [
    "## 7. Who made the most pull requests to a given file?\n",
    "<p>When contributing to a project, we might need some guidance. We might find ourselves needing some information regarding the codebase. It is important direct any questions to the right person. Contributors to open source projects generally have other day jobs, so their time is limited. It is important to address our questions to the right people. One way to identify the right target for our inquiries is by using their contribution history.</p>\n",
    "<p>We identified <code>src/compiler/scala/reflect/reify/phases/Calculate.scala</code> as being recently changed. We are interested in the top 3 developers who changed that file. Those developers are the ones most likely to have the best understanding of the code.</p>"
   ],
   "metadata": {
    "dc": {
     "key": "47"
    },
    "run_control": {
     "frozen": true
    },
    "tags": [
     "context"
    ],
    "pycharm": {
     "name": "#%% md\n"
    }
   }
  },
  {
   "cell_type": "code",
   "source": [
    "# This is the file we are interested in:\n",
    "file = 'src/compiler/scala/reflect/reify/phases/Calculate.scala'\n",
    "\n",
    "# Identify the commits that changed the file\n",
    "file_pr = data[data['file']==file]\n",
    "# print(file_pr)\n",
    "\n",
    "\n",
    "# Count the number of changes made by each developer\n",
    "author_counts = file_pr.groupby('user')['file'].count()\n",
    "\n",
    "\n",
    "# Print the top 3 developers\n",
    "author_counts.nlargest(3)"
   ],
   "metadata": {
    "dc": {
     "key": "47"
    },
    "tags": [
     "sample_code"
    ],
    "pycharm": {
     "name": "#%%\n"
    }
   },
   "execution_count": 7,
   "outputs": [
    {
     "data": {
      "text/plain": "user\nxeno-by     11\nretronym     5\nsoc          4\nName: file, dtype: int64"
     },
     "execution_count": 7,
     "metadata": {},
     "output_type": "execute_result"
    }
   ]
  },
  {
   "cell_type": "markdown",
   "source": [
    "## 8. Who made the last ten pull requests on a given file?\n",
    "<p>Open source projects suffer from fluctuating membership. This makes the problem of finding the right person more challenging: the person has to be knowledgeable <em>and</em> still be involved in the project. A person that contributed a lot in the past might no longer be available (or willing) to help. To get a better understanding, we need to investigate the more recent history of that particular part of the system. </p>\n",
    "<p>Like in the previous task, we will look at the history of  <code>src/compiler/scala/reflect/reify/phases/Calculate.scala</code>.</p>"
   ],
   "metadata": {
    "dc": {
     "key": "54"
    },
    "run_control": {
     "frozen": true
    },
    "tags": [
     "context"
    ],
    "pycharm": {
     "name": "#%% md\n"
    }
   }
  },
  {
   "cell_type": "code",
   "source": [
    "file = 'src/compiler/scala/reflect/reify/phases/Calculate.scala'\n",
    "\n",
    "# Select the pull requests that changed the target file\n",
    "file_pr =  pull_files[pull_files['file']==file]\n",
    "\n",
    "# Merge the obtained results with the pulls DataFrame\n",
    "joined_pr = file_pr.merge(pulls,on='pid')\n",
    "\n",
    "# Find the users of the last 10 most recent pull requests\n",
    "users_last_10 = set(joined_pr.sort_values('date').iloc[-10:,2])\n",
    "\n",
    "# Printing the results\n",
    "users_last_10"
   ],
   "metadata": {
    "dc": {
     "key": "54"
    },
    "tags": [
     "sample_code"
    ],
    "pycharm": {
     "name": "#%%\n"
    }
   },
   "execution_count": 8,
   "outputs": [
    {
     "data": {
      "text/plain": "{'bjornregnell', 'retronym', 'soc', 'starblood', 'xeno-by', 'zuvizudar'}"
     },
     "execution_count": 8,
     "metadata": {},
     "output_type": "execute_result"
    }
   ]
  },
  {
   "cell_type": "markdown",
   "source": [
    "## 9. The pull requests of two special developers\n",
    "<p>Now that we have identified two potential contacts in the projects, we need to find the person who was most involved in the project in recent times. That person is most likely to answer our questions. For each calendar year, we are interested in understanding the number of pull requests the authors submitted. This will give us a high-level image of their contribution trend to the project.</p>"
   ],
   "metadata": {
    "dc": {
     "key": "61"
    },
    "run_control": {
     "frozen": true
    },
    "tags": [
     "context"
    ],
    "pycharm": {
     "name": "#%% md\n"
    }
   }
  },
  {
   "cell_type": "code",
   "source": [
    "%matplotlib inline\n",
    "\n",
    "# The developers we are interested in\n",
    "authors = ['xeno-by', 'soc']\n",
    "\n",
    "# Get all the developers' pull requests\n",
    "by_author = pulls[pulls['user'].isin(authors)]\n",
    "\n",
    "# Count the number of pull requests submitted each year\n",
    "counts = by_author.groupby([by_author['user'], by_author['date'].dt.year]).agg({'pid': 'count'}).reset_index()\n",
    "print(counts)\n",
    "# Convert the table to a wide format\n",
    "counts_wide = counts.pivot_table(index='date', columns='user', values='pid', fill_value=0)\n",
    "print(counts_wide)\n",
    "# Plot the results\n",
    "counts_wide.plot(kind='bar')"
   ],
   "metadata": {
    "dc": {
     "key": "61"
    },
    "tags": [
     "sample_code"
    ],
    "pycharm": {
     "name": "#%%\n"
    }
   },
   "execution_count": 9,
   "outputs": [
    {
     "name": "stdout",
     "output_type": "stream",
     "text": [
      "       user  date  pid\n",
      "0       soc  2011   12\n",
      "1       soc  2012   44\n",
      "2       soc  2013  117\n",
      "3       soc  2014   20\n",
      "4       soc  2015   24\n",
      "5       soc  2016   21\n",
      "6   xeno-by  2011   20\n",
      "7   xeno-by  2012  271\n",
      "8   xeno-by  2013  123\n",
      "9   xeno-by  2014   60\n",
      "10  xeno-by  2015    3\n",
      "user  soc  xeno-by\n",
      "date              \n",
      "2011   12       20\n",
      "2012   44      271\n",
      "2013  117      123\n",
      "2014   20       60\n",
      "2015   24        3\n",
      "2016   21        0\n"
     ]
    },
    {
     "data": {
      "text/plain": "<AxesSubplot:xlabel='date'>"
     },
     "execution_count": 9,
     "metadata": {},
     "output_type": "execute_result"
    },
    {
     "data": {
      "text/plain": "<Figure size 432x288 with 1 Axes>",
      "image/png": "[encoded data removed]"
     },
     "metadata": {
      "needs_background": "light"
     },
     "output_type": "display_data"
    }
   ]
  },
  {
   "cell_type": "markdown",
   "source": [
    "## 10. Visualizing the contributions of each developer\n",
    "<p>As mentioned before, it is important to make a distinction between the global expertise and contribution levels and the contribution levels at a more granular level (file, submodule, etc.) In our case, we want to see which of our two developers of interest have the most experience with the code in a given file. We will measure experience by the number of pull requests submitted that affect that file and how recent those pull requests were submitted.</p>"
   ],
   "metadata": {
    "dc": {
     "key": "68"
    },
    "run_control": {
     "frozen": true
    },
    "tags": [
     "context"
    ],
    "pycharm": {
     "name": "#%% md\n"
    }
   }
  },
  {
   "cell_type": "code",
   "source": [
    "authors = ['xeno-by', 'soc']\n",
    "file = 'src/compiler/scala/reflect/reify/phases/Calculate.scala'\n",
    "\n",
    "# Select the pull requests submitted by the authors, from the `data` DataFrame\n",
    "by_author = data[data['user'].isin(authors)]\n",
    "\n",
    "# Select the pull requests that affect the file\n",
    "by_file = by_author[by_author['file']==file]\n",
    "\n",
    "# Group and count the number of PRs done by each user each year\n",
    "grouped = by_file.groupby(['user', by_file['date'].dt.year]).count()['pid'].reset_index()\n",
    "grouped\n",
    "# # Transform the data into a wide format\n",
    "by_file_wide =grouped.pivot_table(index='date', columns='user', values='pid', fill_value=0)\n",
    "\n",
    "# # Plot the results\n",
    "by_file_wide.plot(kind='bar')"
   ],
   "metadata": {
    "dc": {
     "key": "68"
    },
    "tags": [
     "sample_code"
    ],
    "pycharm": {
     "name": "#%%\n"
    }
   },
   "execution_count": 10,
   "outputs": [
    {
     "data": {
      "text/plain": "<AxesSubplot:xlabel='date'>"
     },
     "execution_count": 10,
     "metadata": {},
     "output_type": "execute_result"
    },
    {
     "data": {
      "text/plain": "<Figure size 432x288 with 1 Axes>",
      "image/png": "[encoded data removed]"
     },
     "metadata": {
      "needs_background": "light"
     },
     "output_type": "display_data"
    }
   ]
  }
 ],
 "metadata": {
  "kernelspec": {
   "name": "python3",
   "display_name": "Python 3 (ipykernel)",
   "language": "python"
  },
  "language_info": {
   "name": "python",
   "version": "3.8.10",
   "mimetype": "text/x-python",
   "codemirror_mode": {
    "name": "ipython",
    "version": 3
   },
   "pygments_lexer": "ipython3",
   "nbconvert_exporter": "python",
   "file_extension": ".py"
  },
  "editor": "DataCamp Workspace"
 },
 "nbformat": 4,
 "nbformat_minor": 4
}